{
 "cells": [
  {
   "cell_type": "markdown",
   "metadata": {},
   "source": [
    "# Algorithm & Data Structure"
   ]
  },
  {
   "cell_type": "code",
   "execution_count": null,
   "metadata": {},
   "outputs": [
    {
     "name": "stdout",
     "output_type": "stream",
     "text": [
      "Hello\n"
     ]
    }
   ],
   "source": [
    "print(\"Hello\")"
   ]
  },
  {
   "cell_type": "markdown",
   "metadata": {},
   "source": [
    "## Array"
   ]
  },
  {
   "cell_type": "code",
   "execution_count": 2,
   "metadata": {},
   "outputs": [
    {
     "data": {
      "text/plain": [
       "[1, 2, 3, 4, 5]"
      ]
     },
     "execution_count": 2,
     "metadata": {},
     "output_type": "execute_result"
    }
   ],
   "source": [
    "my_arr = [1, 2, 3, 4, 5]\n",
    "my_arr"
   ]
  },
  {
   "cell_type": "code",
   "execution_count": 3,
   "metadata": {},
   "outputs": [
    {
     "data": {
      "text/plain": [
       "1"
      ]
     },
     "execution_count": 3,
     "metadata": {},
     "output_type": "execute_result"
    }
   ],
   "source": [
    "my_arr[0]"
   ]
  },
  {
   "cell_type": "markdown",
   "metadata": {},
   "source": [
    "## Stack"
   ]
  },
  {
   "cell_type": "markdown",
   "metadata": {},
   "source": [
    "Last In First Out (LIFO), Element terakhir yang masuk menjadi element pertama yang keluar.\n",
    "Analogi: Bayangkan tumpukan pada buku, dimana buku yang paling atas akan diambil terlebih dahulu.\n",
    "\n",
    "\n",
    "Operasi pada stack:\n",
    "- Push, Menambahkan element ke atas stack\n",
    "- Pop, Menghapus element dari atas stack\n",
    "- Peek, Melihat element yang ada diatas stack tanpa menghapusnya"
   ]
  },
  {
   "cell_type": "markdown",
   "metadata": {},
   "source": [
    "### Stack menggunakan List"
   ]
  },
  {
   "cell_type": "code",
   "execution_count": 6,
   "metadata": {},
   "outputs": [
    {
     "name": "stdout",
     "output_type": "stream",
     "text": [
      "[1, 2, 3]\n"
     ]
    }
   ],
   "source": [
    "stack = []\n",
    "\n",
    "stack.append(1)\n",
    "stack.append(2)\n",
    "stack.append(3)\n",
    "\n",
    "print(stack)"
   ]
  },
  {
   "cell_type": "code",
   "execution_count": 7,
   "metadata": {},
   "outputs": [
    {
     "name": "stdout",
     "output_type": "stream",
     "text": [
      "Element yang dikeluarkan adalah 3\n",
      "Stack sekarang adalah [1, 2]\n"
     ]
    }
   ],
   "source": [
    "top_element = stack.pop()\n",
    "\n",
    "print(f\"Element yang dikeluarkan adalah {top_element}\")\n",
    "print(f\"Stack sekarang adalah {stack}\")"
   ]
  },
  {
   "cell_type": "code",
   "execution_count": 8,
   "metadata": {},
   "outputs": [
    {
     "name": "stdout",
     "output_type": "stream",
     "text": [
      "Elemen teratas (peek): 2\n"
     ]
    }
   ],
   "source": [
    "# Melihat elemen teratas dari stack (Peek)\n",
    "if stack:\n",
    "    print(\"Elemen teratas (peek):\", stack[-1])"
   ]
  },
  {
   "cell_type": "markdown",
   "metadata": {},
   "source": [
    "### Stack menggunakan collections.deque\n",
    "\n",
    "deque lebih efisien dibandingkan list, terutama untuk operasi yang melibatkan penghapusan dari ujung struktur data."
   ]
  },
  {
   "cell_type": "code",
   "execution_count": 9,
   "metadata": {},
   "outputs": [
    {
     "data": {
      "text/plain": [
       "deque([])"
      ]
     },
     "execution_count": 9,
     "metadata": {},
     "output_type": "execute_result"
    }
   ],
   "source": [
    "from collections import deque\n",
    "\n",
    "stack = deque()\n",
    "stack"
   ]
  },
  {
   "cell_type": "code",
   "execution_count": 10,
   "metadata": {},
   "outputs": [
    {
     "data": {
      "text/plain": [
       "deque([1, 2, 3])"
      ]
     },
     "execution_count": 10,
     "metadata": {},
     "output_type": "execute_result"
    }
   ],
   "source": [
    "stack.append(1)\n",
    "stack.append(2)\n",
    "stack.append(3)\n",
    "\n",
    "stack"
   ]
  },
  {
   "cell_type": "code",
   "execution_count": 17,
   "metadata": {},
   "outputs": [
    {
     "name": "stdout",
     "output_type": "stream",
     "text": [
      "type data adalah <class 'collections.deque'>\n",
      "stack saat ini adalah [1, 2, 3]\n",
      "type data adalah <class 'list'>\n"
     ]
    }
   ],
   "source": [
    "print(f\"type data adalah {type(stack)}\")\n",
    "\n",
    "# cast to list\n",
    "print(f\"stack saat ini adalah {list(stack)}\")\n",
    "print(f\"type data adalah {type(list(stack))}\")"
   ]
  },
  {
   "cell_type": "code",
   "execution_count": 18,
   "metadata": {},
   "outputs": [
    {
     "data": {
      "text/plain": [
       "deque([1, 2, 3])"
      ]
     },
     "execution_count": 18,
     "metadata": {},
     "output_type": "execute_result"
    }
   ],
   "source": [
    "stack"
   ]
  },
  {
   "cell_type": "code",
   "execution_count": 19,
   "metadata": {},
   "outputs": [
    {
     "name": "stdout",
     "output_type": "stream",
     "text": [
      "Element yang dikeluarkan adalah 3\n",
      "Stack sekarang adalah deque([1, 2])\n"
     ]
    }
   ],
   "source": [
    "top_element = stack.pop()\n",
    "\n",
    "print(f\"Element yang dikeluarkan adalah {top_element}\")\n",
    "print(f\"Stack sekarang adalah {stack}\")"
   ]
  },
  {
   "cell_type": "code",
   "execution_count": 20,
   "metadata": {},
   "outputs": [
    {
     "name": "stdout",
     "output_type": "stream",
     "text": [
      "Elemen teratas (peek): 2\n"
     ]
    }
   ],
   "source": [
    "if stack:\n",
    "    print(\"Elemen teratas (peek):\", stack[-1])"
   ]
  },
  {
   "cell_type": "markdown",
   "metadata": {},
   "source": [
    "### Custom class untuk Stack"
   ]
  },
  {
   "cell_type": "code",
   "execution_count": null,
   "metadata": {},
   "outputs": [],
   "source": [
    "class Stack:\n",
    "    def __init__(self):\n",
    "        self.stack = []\n",
    "\n",
    "    def push(self, item):\n",
    "        \"\"\"Menambahkan elemen ke dalam stack\"\"\"\n",
    "        self.stack.append(item)\n",
    "        print(f\"Push {item} ke dalam stack.\")\n",
    "\n",
    "    def pop(self):\n",
    "        \"\"\"Menghapus elemen teratas dari stack\"\"\"\n",
    "        if not self.is_empty():\n",
    "            return self.stack.pop()\n",
    "        else:\n",
    "            return \"Stack kosong, tidak dapat melakukan pop.\"\n",
    "\n",
    "    def peek(self):\n",
    "        \"\"\"Mengembalikan elemen teratas tanpa menghapusnya\"\"\"\n",
    "        if not self.is_empty():\n",
    "            return self.stack[-1]\n",
    "        else:\n",
    "            return \"Stack kosong, tidak ada elemen di atas.\"\n",
    "\n",
    "    def is_empty(self):\n",
    "        \"\"\"Memeriksa apakah stack kosong\"\"\"\n",
    "        return len(self.stack) == 0\n",
    "\n",
    "    def size(self):\n",
    "        \"\"\"Mengembalikan ukuran stack\"\"\"\n",
    "        return len(self.stack)\n",
    "\n",
    "    def display(self):\n",
    "        \"\"\"Menampilkan isi stack\"\"\"\n",
    "        print(\"Isi stack:\", self.stack)"
   ]
  },
  {
   "cell_type": "code",
   "execution_count": 22,
   "metadata": {},
   "outputs": [
    {
     "name": "stdout",
     "output_type": "stream",
     "text": [
      "Push 10 ke dalam stack.\n",
      "Push 20 ke dalam stack.\n",
      "Push 30 ke dalam stack.\n",
      "Isi stack: [10, 20, 30]\n",
      "Elemen teratas (peek): 30\n",
      "Isi stack: [10, 20]\n",
      "Apakah stack kosong? False\n"
     ]
    }
   ],
   "source": [
    "# Menggunakan kelas Stack\n",
    "stack = Stack()\n",
    "stack.push(10)\n",
    "stack.push(20)\n",
    "stack.push(30)\n",
    "stack.display()  # Output: Isi stack: [10, 20, 30]\n",
    "\n",
    "print(\"Elemen teratas (peek):\", stack.peek())  # Output: 30\n",
    "\n",
    "stack.pop()\n",
    "stack.display()  # Output: Isi stack: [10, 20]\n",
    "\n",
    "print(\"Apakah stack kosong?\", stack.is_empty())  # Output: False"
   ]
  },
  {
   "cell_type": "markdown",
   "metadata": {},
   "source": [
    "## Queue\n",
    "\n",
    "Struktur data FIFO (First In, First Out), artinya elemen yang pertama kali masuk adalah elemen yang pertama kali keluar, mirip antrian.\n",
    "\n",
    "Ada beberapa cara untuk mengimplementasikan queue di Python:\n",
    "- Menggunakan list (sederhana, tapi tidak efisien)\n",
    "- Menggunakan collections.deque (direkomendasikan)\n",
    "- Menggunakan queue.Queue (cocok untuk multithreading)\n",
    "- Menggunakan Kelas Custom Queue (jika ingin membuat queue dari nol)"
   ]
  },
  {
   "cell_type": "code",
   "execution_count": 24,
   "metadata": {},
   "outputs": [
    {
     "name": "stdout",
     "output_type": "stream",
     "text": [
      "Queue setelah enqueue: [10, 20, 30]\n",
      "Elemen yang dikeluarkan (dequeue): 10\n",
      "Queue setelah dequeue: [20, 30]\n"
     ]
    }
   ],
   "source": [
    "from collections import deque\n",
    "\n",
    "# Implementasi Queue menggunakan deque\n",
    "queue = deque()\n",
    "\n",
    "# Menambahkan elemen ke dalam queue (Enqueue)\n",
    "queue.append(10)\n",
    "queue.append(20)\n",
    "queue.append(30)\n",
    "print(\"Queue setelah enqueue:\", list(queue))  # Output: [10, 20, 30]\n",
    "\n",
    "# Menghapus elemen dari depan queue (Dequeue)\n",
    "first_element = queue.popleft()\n",
    "print(\"Elemen yang dikeluarkan (dequeue):\", first_element)  # Output: 10\n",
    "print(\"Queue setelah dequeue:\", list(queue))  # Output: [20, 30]"
   ]
  },
  {
   "cell_type": "code",
   "execution_count": null,
   "metadata": {},
   "outputs": [
    {
     "name": "stdout",
     "output_type": "stream",
     "text": [
      "Ukuran queue saat ini: 3\n",
      "Elemen yang dikeluarkan (dequeue): 10\n",
      "Ukuran queue setelah dequeue: 2\n"
     ]
    }
   ],
   "source": [
    "from queue import Queue\n",
    "\n",
    "# Implementasi Queue menggunakan queue.Queue\n",
    "queue = Queue()\n",
    "\n",
    "# Menambahkan elemen ke dalam queue (Enqueue)\n",
    "queue.put(10)\n",
    "queue.put(20)\n",
    "queue.put(30)\n",
    "print(\"Ukuran queue saat ini:\", queue.qsize())  # Output: 3\n",
    "\n",
    "# Menghapus elemen dari depan queue (Dequeue)\n",
    "first_element = queue.get()\n",
    "print(\"Elemen yang dikeluarkan (dequeue):\", first_element)  # Output: 10\n",
    "print(\"Ukuran queue setelah dequeue:\", queue.qsize())  # Output: 2"
   ]
  },
  {
   "cell_type": "markdown",
   "metadata": {},
   "source": [
    "## Algorithm"
   ]
  },
  {
   "cell_type": "markdown",
   "metadata": {},
   "source": [
    "### Searching Algorithm\n",
    "\n",
    "#### Linear\n",
    "Langkah-langkah pencarian linear:\n",
    "1. Mulai dari elemen pertama.\n",
    "2. Bandingkan elemen saat ini dengan elemen\n",
    "yang dicari.\n",
    "3. Jika cocok, pencarian selesai.\n",
    "4. Jika tidak cocok, lanjutkan ke elemen\n",
    "berikutnya.\n",
    "5. Ulangi sampai elemen ditemukan atau akhir\n",
    "data tercapai."
   ]
  },
  {
   "cell_type": "code",
   "execution_count": null,
   "metadata": {},
   "outputs": [
    {
     "name": "stdout",
     "output_type": "stream",
     "text": [
      "Iterasi 0 Memeriksa angka 3...\n",
      "Angka 3 tidak ditemukan.\n",
      "Iterasi 1 Memeriksa angka 7...\n",
      "Angka 7 tidak ditemukan.\n",
      "Iterasi 2 Memeriksa angka 1...\n",
      "Angka 1 tidak ditemukan.\n",
      "Iterasi 3 Memeriksa angka 6...\n",
      "Angka 6 tidak ditemukan.\n",
      "Iterasi 4 Memeriksa angka 4...\n",
      "Angka 4 ditemukan!\n"
     ]
    }
   ],
   "source": [
    "import random\n",
    "\n",
    "my_arr = [3, 7, 1, 6, 4, 2, 5, 9, 8, 0]\n",
    "\n",
    "searched_num = random.randint(0, 9)\n",
    "\n",
    "for idx, num in enumerate(my_arr):\n",
    "    print(f\"Iterasi {idx} Memeriksa angka {num}...\")\n",
    "    if num == searched_num:\n",
    "        print(f\"Angka {num} ditemukan!\")\n",
    "        break\n",
    "    else:\n",
    "        print(f\"Angka {num} tidak ditemukan.\")\n"
   ]
  },
  {
   "cell_type": "markdown",
   "metadata": {},
   "source": [
    "#### Biner"
   ]
  }
 ],
 "metadata": {
  "kernelspec": {
   "display_name": "venv",
   "language": "python",
   "name": "python3"
  },
  "language_info": {
   "codemirror_mode": {
    "name": "ipython",
    "version": 3
   },
   "file_extension": ".py",
   "mimetype": "text/x-python",
   "name": "python",
   "nbconvert_exporter": "python",
   "pygments_lexer": "ipython3",
   "version": "3.9.13"
  }
 },
 "nbformat": 4,
 "nbformat_minor": 2
}
